{
 "cells": [
  {
   "cell_type": "code",
   "execution_count": null,
   "metadata": {
    "collapsed": true
   },
   "outputs": [],
   "source": [
    "# def extend_lines(lines):\n",
    "#     right = []\n",
    "#     left = []\n",
    "#     for x1,y1,x2,y2 in lines[:, 0]:\n",
    "#         m = (float(y2) - y1) / (x2 - x1)\n",
    "#         if m >= 0: \n",
    "#             right.append([x1,y1,x2,y2, m])\n",
    "#         else:\n",
    "#             left.append([x1,y1,x2,y2, m])\n",
    "#     right = reject_outliers(right, cutoff=(0.45, 0.75)) #, \n",
    "#     right = np.array(right)[:, :4]\n",
    "    \n",
    "#     left = reject_outliers(left, cutoff=(-0.85, -0.6)) #, \n",
    "#     left = np.array(left)[:, :4]\n",
    "\n",
    "#     ### Generate Right Lane\n",
    "#     x1,y1,x2,y2 = np.mean(right, axis=0)\n",
    "#     x1e, y1e = extend_point(x1,y1,x2,y2, -1000) # right bottom\n",
    "#     x2e, y2e = extend_point(x1,y1,x2,y2, 1000)  # right top\n",
    "#     right_lane = np.array([[x1e,y1e,x2e,y2e]])\n",
    "# #     right_lane = merge_prev(right_lane, right_prev)\n",
    "    \n",
    "#     ### Generate Left Lane\n",
    "#     x1,y1,x2,y2 = np.mean(left, axis=0)\n",
    "#     x1e, y1e = extend_point(x1,y1,x2,y2, -1000) # left bottom\n",
    "#     x2e, y2e = extend_point(x1,y1,x2,y2, 1000)  # left tip\n",
    "#     left_lane = np.array([[x1e,y1e,x2e,y2e]])\n",
    "# #     left_lane = merge_prev(left_lane, left_prev)\n",
    "\n",
    "\n",
    "#     return np.array([right_lane, left_lane], dtype=np.int32)\n",
    "\n",
    "# def find_intersection(lines):\n",
    "#     \"\"\" Finishing touch to adjust the apex on the horizon with the lane line intersection \"\"\"\n",
    "#     R, L = lines[0][0], lines[1][0]\n",
    "#     Rx, Ry = [R[0], R[2]], [R[1], R[3]]\n",
    "#     Lx, Ly = [L[0], L[2]], [L[1], L[3]]\n",
    "    \n",
    "#     # Get coefficients for lines\n",
    "#     Rc = np.polyfit(Rx, Ry, 1)\n",
    "#     Lc = np.polyfit(Lx, Ly, 1)\n",
    "    \n",
    "#     # Calculate intersection\n",
    "#     x = (Lc[1] - Rc[1]) / (Rc[0] - Lc[0])\n",
    "#     y = (Rc[0]*x) + Rc[1] + 10\n",
    "#     return [x,y]"
   ]
  }
 ],
 "metadata": {
  "kernelspec": {
   "display_name": "Python 2",
   "language": "python",
   "name": "python2"
  },
  "language_info": {
   "codemirror_mode": {
    "name": "ipython",
    "version": 2
   },
   "file_extension": ".py",
   "mimetype": "text/x-python",
   "name": "python",
   "nbconvert_exporter": "python",
   "pygments_lexer": "ipython2",
   "version": "2.7.12"
  }
 },
 "nbformat": 4,
 "nbformat_minor": 0
}
